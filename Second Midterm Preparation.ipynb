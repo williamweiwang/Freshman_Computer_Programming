{
 "cells": [
  {
   "cell_type": "code",
   "execution_count": 71,
   "metadata": {
    "collapsed": false
   },
   "outputs": [
    {
     "name": "stdout",
     "output_type": "stream",
     "text": [
      "studentID,Quiz,midterm1,midterm2,final\n",
      "B9643050,52.5,60,42,79\n",
      "B9743007,99,94,93,96\n",
      "B9743010,87.5,72,98,96\n",
      "B9743011,87,84,66,72\n",
      "B9743012,82,82,87,94\n",
      "B9743015,79,85,77,71\n",
      "B9743017,33,95,30,71\n",
      "B9743019,92,84,92,77\n",
      "B9743020,66.5,72,71,79\n",
      "B9743022,95,85,64,81\n",
      "B9743023,66,75,59,57\n",
      "B9743029,90.5,85,95,87\n",
      "B9743032,83,79,100,79\n",
      "B9743035,84,75,83,80\n",
      "B9743036,44,68,72,86\n",
      "B9743037,82.5,90,63,68\n",
      "B9743039,76.5,82,66,93\n",
      "B9743042,92.5,87,87,96\n",
      "B9743048,66,71,81,77\n",
      "B9743052,79,79,62,83\n",
      "B9843034,58.5,79,64,98\n",
      "B9843040,50.5,81,39,79\n",
      "B9843045,62,67,43,66\n",
      "\n"
     ]
    }
   ],
   "source": [
    "file=open('score-example.csv')\n",
    "data = file.read()\n",
    "print(data)"
   ]
  },
  {
   "cell_type": "code",
   "execution_count": 69,
   "metadata": {
    "collapsed": false
   },
   "outputs": [
    {
     "name": "stdout",
     "output_type": "stream",
     "text": [
      "{'B9643050': 60.333333333333336, 'B9743007': 94.33333333333333, 'B9743010': 88.66666666666667, 'B9743011': 74.0, 'B9743012': 87.66666666666667, 'B9743015': 77.66666666666667, 'B9743017': 65.33333333333333, 'B9743019': 84.33333333333333, 'B9743020': 74.0, 'B9743022': 76.66666666666667, 'B9743023': 63.666666666666664, 'B9743029': 89.0, 'B9743032': 86.0, 'B9743035': 79.33333333333333, 'B9743036': 75.33333333333333, 'B9743037': 73.66666666666667, 'B9743039': 80.33333333333333, 'B9743042': 90.0, 'B9743048': 76.33333333333333, 'B9743052': 74.66666666666667, 'B9843034': 80.33333333333333, 'B9843040': 66.33333333333333, 'B9843045': 58.666666666666664}\n"
     ]
    }
   ],
   "source": [
    "score_dicts1 = {}\n",
    "for line in data.splitlines()[1:]:\n",
    "    sdata = line.split(',')\n",
    "    studentID, Quiz, midterm1, midterm2, final = sdata[0], sdata[1], sdata[2], sdata[3], sdata[4]\n",
    "    def average():\n",
    "        average = (int(midterm1)+int(midterm2)+int(final))/3\n",
    "        return average\n",
    "    score_dicts1[studentID]=average()\n",
    "print (score_dicts1)"
   ]
  },
  {
   "cell_type": "code",
   "execution_count": 70,
   "metadata": {
    "collapsed": false
   },
   "outputs": [
    {
     "name": "stdout",
     "output_type": "stream",
     "text": [
      "Please key in an ID:  B9743036\n",
      "The average score is 67.5\n"
     ]
    }
   ],
   "source": [
    "def summ(ID):\n",
    "    gygy = str(ID)\n",
    "    score = sum(score_dicts[gygy])/len(score_dicts[gygy])\n",
    "    return score\n",
    "gygyee = input('Please key in an ID:  ')\n",
    "print ('The average score is', summ(gygyee))"
   ]
  },
  {
   "cell_type": "code",
   "execution_count": 61,
   "metadata": {
    "collapsed": false
   },
   "outputs": [
    {
     "name": "stdout",
     "output_type": "stream",
     "text": [
      "-------sort by average-------\n",
      "B9743007 : 94.33333333333333\n",
      "B9743042 : 90.0\n",
      "B9743029 : 89.0\n",
      "B9743010 : 88.66666666666667\n",
      "B9743012 : 87.66666666666667\n",
      "B9743032 : 86.0\n",
      "B9743019 : 84.33333333333333\n",
      "B9743039 : 80.33333333333333\n",
      "B9843034 : 80.33333333333333\n",
      "B9743035 : 79.33333333333333\n",
      "B9743015 : 77.66666666666667\n",
      "B9743022 : 76.66666666666667\n",
      "B9743048 : 76.33333333333333\n",
      "B9743036 : 75.33333333333333\n",
      "B9743052 : 74.66666666666667\n",
      "B9743011 : 74.0\n",
      "B9743020 : 74.0\n",
      "B9743037 : 73.66666666666667\n",
      "B9843040 : 66.33333333333333\n",
      "B9743017 : 65.33333333333333\n",
      "B9743023 : 63.666666666666664\n",
      "B9643050 : 60.333333333333336\n",
      "B9843045 : 58.666666666666664\n"
     ]
    }
   ],
   "source": [
    "print('-------sort by average-------')\n",
    "for key, value in sorted(score_dicts1.items(), key = lambda item:(item[1]),reverse = True):\n",
    "    print(key,':',value)"
   ]
  },
  {
   "cell_type": "code",
   "execution_count": null,
   "metadata": {
    "collapsed": true
   },
   "outputs": [],
   "source": []
  }
 ],
 "metadata": {
  "kernelspec": {
   "display_name": "Python 3",
   "language": "python",
   "name": "python3"
  },
  "language_info": {
   "codemirror_mode": {
    "name": "ipython",
    "version": 3
   },
   "file_extension": ".py",
   "mimetype": "text/x-python",
   "name": "python",
   "nbconvert_exporter": "python",
   "pygments_lexer": "ipython3",
   "version": "3.6.0"
  }
 },
 "nbformat": 4,
 "nbformat_minor": 2
}
