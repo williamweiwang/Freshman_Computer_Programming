{
 "cells": [
  {
   "cell_type": "markdown",
   "metadata": {},
   "source": [
    "# 完成NTUSTPerson Class"
   ]
  },
  {
   "cell_type": "code",
   "execution_count": 5,
   "metadata": {
    "collapsed": true
   },
   "outputs": [],
   "source": [
    "class NTUSTPerson(object):\n",
    "\n",
    "    def __init__(self, name):\n",
    "        \"\"\"Create a person\"\"\"\n",
    "        self.name = name\n",
    "    def getName(self):\n",
    "        \"\"\"return self's full name\"\"\"\n",
    "        return self.name"
   ]
  },
  {
   "cell_type": "markdown",
   "metadata": {},
   "source": [
    "# 完成Student Class"
   ]
  },
  {
   "cell_type": "code",
   "execution_count": 6,
   "metadata": {
    "collapsed": true
   },
   "outputs": [],
   "source": [
    "class Student(NTUSTPerson):\n",
    "    \n",
    "    def __init__(self,studentid):\n",
    "        self.studentid = studentid\n",
    "        self.courses = {} # A dictionary whose key is course's ID, values are corrsponding Course object       \n",
    "        self.grades = {} # A dictionary whose key is course's ID, values are his/her grades     \n",
    "        self.courselist = []\n",
    "        self.gradelist = []\n",
    "    def addCourse(self, courseobj):\n",
    "        \"\"\"Add Course object to course dictionary\"\"\"\n",
    "        self.courses[courseobj.courseid] = [courseobj]\n",
    "    \n",
    "    def addGrade(self,courseid,grade):\n",
    "        \"\"\"Assume: grade is a int or float\n",
    "           Add grade to the dictionary associated with the course id\"\"\"\n",
    "        try:\n",
    "            self.grades[courseid] = [float(grade)]\n",
    "        except:\n",
    "            print('ValueError')\n",
    "\n",
    "    def getStudentID(self):\n",
    "        \"\"\"Return student's id \"\"\"\n",
    "        return self.studentid\n",
    "\n",
    "    def getCourses(self):\n",
    "        \"\"\"Return a list of courses id which were taken by this student\"\"\"\n",
    "        for key,value in self.courses.items():\n",
    "            self.courselist.extend([key])\n",
    "        return self.courselist\n",
    "    def getGrades(self):\n",
    "        \"\"\"Return a list of grades obtained by a student\"\"\"\n",
    "        for key,value in self.grades.items():\n",
    "            self.gradelist.extend([value])\n",
    "        return self.gradelist\n",
    "\n",
    "    def getGPA(self):\n",
    "        \"\"\"Compute and return the GPA\n",
    "           GPA = summation of grade * credit/ total credit\"\"\"\n",
    "        sumgrade = 0\n",
    "        sumcredit = 0\n",
    "\n",
    "        "
   ]
  },
  {
   "cell_type": "markdown",
   "metadata": {},
   "source": [
    "# 完成UG Class"
   ]
  },
  {
   "cell_type": "code",
   "execution_count": 7,
   "metadata": {
    "collapsed": true
   },
   "outputs": [],
   "source": [
    "class UG(Student):\n",
    "    \n",
    "    def __init__(self,studentid,name,classYear):\n",
    "        Student.__init__(self, studentid)\n",
    "        NTUSTPerson.__init__(self, name)\n",
    "        self.classyear = int(classYear)\n",
    "     \n",
    "    def getClassYear(self):\n",
    "        \"\"\"Return Class Year\"\"\"\n",
    "        return self.classyear\n",
    "   \n",
    "    def __str__(self):\n",
    "        \"\"\"Return self's name\"\"\"\n",
    "        name = self.NTUSTPerson.__init__()\n",
    "        return name"
   ]
  },
  {
   "cell_type": "markdown",
   "metadata": {},
   "source": [
    "# 完成Course Class"
   ]
  },
  {
   "cell_type": "code",
   "execution_count": 8,
   "metadata": {
    "collapsed": true
   },
   "outputs": [],
   "source": [
    "class Course(object):\n",
    "    def __init__(self, courseid, coursename, credit, instructor):\n",
    "        \"\"\"Create a course\"\"\"\n",
    "        self.courseid = courseid\n",
    "        self.coursename = coursename\n",
    "        self.credit = credit\n",
    "        self.instructor = instructor\n",
    "        \n",
    "        \"\"\"Create empty grade book\"\"\"\n",
    "        self.studentids = [] # A list of student's id\n",
    "        self.coursegrades = []\n",
    "        self.grades = {} # A dictionary whose key is student's ID, values are his/her grades\n",
    "        self.isSorted = True        \n",
    "\n",
    "    def addStudent(self, studentobj):\n",
    "        \"\"\"Assume: studnet is of type Student\n",
    "           Add student to the course\"\"\"\n",
    "        for student in studentobj.getStudentID():\n",
    "            self.studentids.extend([student])\n",
    "\n",
    "    def addGrade(self, student, grade):\n",
    "        \"\"\"Assume: grade is a float\n",
    "           Add grade to the dictionary associated with the student ID\"\"\"\n",
    "        self.grades[student] = (float(grade))\n",
    "        \n",
    "    def getCourseID(self):\n",
    "        \"\"\"return self's course ID\"\"\"\n",
    "        return self.courseid\n",
    "\n",
    "    def getCourseName(self):\n",
    "        \"\"\"return self's course name\"\"\"\n",
    "        return self.coursename\n",
    "\n",
    "    def getCredit(self):\n",
    "        \"\"\"return course's credit\"\"\"\n",
    "        return self.credit\n",
    "\n",
    "    def getGrades(self):\n",
    "        \"\"\"Return a list of grades of students who took this course\"\"\"\n",
    "        for key,value in self.grades.items() :\n",
    "            self.coursegrades.extend([value])\n",
    "        return self.coursegrades\n",
    "    def getGradesbyID(self,studentid):\n",
    "        \"\"\"Return the grade of a student who took this course\"\"\"\n",
    "        return self.grades[studentid]\n",
    "    \n",
    "    def getStudents(self):\n",
    "        \"\"\"Return a list of the students in the grade book\"\"\"\n",
    "        return self.studentids\n",
    "    def __str__(self):\n",
    "        \"\"\"Return self's course name\"\"\"\n",
    "        return self.coursename"
   ]
  },
  {
   "cell_type": "markdown",
   "metadata": {},
   "source": [
    "# 讀CSV檔"
   ]
  },
  {
   "cell_type": "code",
   "execution_count": 9,
   "metadata": {
    "collapsed": false
   },
   "outputs": [],
   "source": [
    "studentscsv = open('students.csv','r').readlines()[1:]\n",
    "coursescsv = open('courses.csv','r').readlines()[1:]\n",
    "coursegradecsv = open('coursegrade.csv','r').readlines()[1:]"
   ]
  },
  {
   "cell_type": "markdown",
   "metadata": {},
   "source": [
    "# 建立list 及dictionary來儲存資料"
   ]
  },
  {
   "cell_type": "code",
   "execution_count": 10,
   "metadata": {
    "collapsed": true
   },
   "outputs": [],
   "source": [
    "UGid = [] # A list of student's id\n",
    "UGstudents = {} # A dictionary whose key is student's ID, and value is Student Object\n",
    "Courseid = [] # A list of course's id\n",
    "Courses = {} # A dictionary whose key is course's ID, and value is Course Object \n",
    "\n",
    "stugrade = {}\n",
    "cougrade = {}"
   ]
  },
  {
   "cell_type": "markdown",
   "metadata": {},
   "source": [
    "# 將CSV資料讀入建立的list 及dictionary"
   ]
  },
  {
   "cell_type": "code",
   "execution_count": 17,
   "metadata": {
    "collapsed": false
   },
   "outputs": [],
   "source": [
    "# read student csv file \n",
    "for line in studentscsv:\n",
    "# Please complete this for loop\n",
    "    ids,name,year = line.split(',')\n",
    "    if ids not in UGid:\n",
    "        UGid.extend([ids])\n",
    "    UGstudents[ids] = (Student(ids))\n",
    "# read course csv file\n",
    "for line in coursescsv:\n",
    "# Please complete this for loop\n",
    "    ids,name,credit,teacher = line.split(',')\n",
    "    if ids not in Courseid:\n",
    "        Courseid.extend([ids])\n",
    "    Courses[ids] = (Course(ids,name,credit,teacher))\n",
    "# Read grade csv file"
   ]
  },
  {
   "cell_type": "markdown",
   "metadata": {},
   "source": [
    "# 請完成一段程式來作到\n",
    "\n",
    "1. 列印出每個課程的修課人員\n",
    "2. 列印出每個同學所修的課及GPA"
   ]
  },
  {
   "cell_type": "code",
   "execution_count": null,
   "metadata": {
    "collapsed": true
   },
   "outputs": [],
   "source": [
    "for line in coursegradecsv:\n",
    "# Please complete this for loop\n",
    "    stuid,couid,grade = line.split(',')\n",
    "    Student[stuid].addCourse(Courses[couid])\n",
    "    Student[stuid].addGrade(couid,grade)\n",
    "    Course[couid].addStudent(UGstudents[stuid])\n",
    "    Course[couid].addGrade(stuid,grade)"
   ]
  }
 ],
 "metadata": {
  "kernelspec": {
   "display_name": "Python 3",
   "language": "python",
   "name": "python3"
  },
  "language_info": {
   "codemirror_mode": {
    "name": "ipython",
    "version": 3
   },
   "file_extension": ".py",
   "mimetype": "text/x-python",
   "name": "python",
   "nbconvert_exporter": "python",
   "pygments_lexer": "ipython3",
   "version": "3.6.0"
  }
 },
 "nbformat": 4,
 "nbformat_minor": 2
}
