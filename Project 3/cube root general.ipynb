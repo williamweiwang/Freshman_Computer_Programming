{
 "cells": [
  {
   "cell_type": "code",
   "execution_count": 4,
   "metadata": {
    "collapsed": false
   },
   "outputs": [
    {
     "name": "stdout",
     "output_type": "stream",
     "text": [
      "low = 0.0 high = 25 ans = 12.5\n",
      "low = 0.0 high = 12.5 ans = 6.25\n",
      "low = 0.0 high = 6.25 ans = 3.125\n",
      "low = 0.0 high = 3.125 ans = 1.5625\n",
      "low = 1.5625 high = 3.125 ans = 2.34375\n",
      "low = 2.34375 high = 3.125 ans = 2.734375\n",
      "low = 2.734375 high = 3.125 ans = 2.9296875\n",
      "low = 2.734375 high = 2.9296875 ans = 2.83203125\n",
      "low = 2.83203125 high = 2.9296875 ans = 2.880859375\n",
      "low = 2.880859375 high = 2.9296875 ans = 2.9052734375\n",
      "low = 2.9052734375 high = 2.9296875 ans = 2.91748046875\n",
      "low = 2.91748046875 high = 2.9296875 ans = 2.923583984375\n",
      "low = 2.923583984375 high = 2.9296875 ans = 2.9266357421875\n",
      "low = 2.923583984375 high = 2.9266357421875 ans = 2.92510986328125\n",
      "numGuesses = 14\n",
      "2.924346923828125 is close to cube root of 25\n"
     ]
    }
   ],
   "source": [
    "x = 25\n",
    "epsilon = 0.01\n",
    "numGuesses = 0\n",
    "low = 0.0\n",
    "high = max(1.0, x)\n",
    "ans = (high+low)/2.0\n",
    "while abs(ans**3-x) >= epsilon:\n",
    "    print ('low =', low, 'high =', high, 'ans =', ans)\n",
    "    numGuesses += 1\n",
    "    if ans**3 < x:\n",
    "        low = ans\n",
    "    else:\n",
    "        high = ans\n",
    "    ans = (high+low)/2.0\n",
    "print ('numGuesses =', numGuesses)\n",
    "print (ans, 'is close to cube root of', x)"
   ]
  },
  {
   "cell_type": "code",
   "execution_count": null,
   "metadata": {
    "collapsed": true
   },
   "outputs": [],
   "source": []
  }
 ],
 "metadata": {
  "kernelspec": {
   "display_name": "Python 3",
   "language": "python",
   "name": "python3"
  },
  "language_info": {
   "codemirror_mode": {
    "name": "ipython",
    "version": 3
   },
   "file_extension": ".py",
   "mimetype": "text/x-python",
   "name": "python",
   "nbconvert_exporter": "python",
   "pygments_lexer": "ipython3",
   "version": "3.6.0"
  }
 },
 "nbformat": 4,
 "nbformat_minor": 2
}
