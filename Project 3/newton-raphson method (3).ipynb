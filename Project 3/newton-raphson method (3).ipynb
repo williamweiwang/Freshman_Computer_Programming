{
 "cells": [
  {
   "cell_type": "code",
   "execution_count": 1,
   "metadata": {
    "collapsed": false
   },
   "outputs": [
    {
     "name": "stdout",
     "output_type": "stream",
     "text": [
      "Cube root of 25.0 is about 2.924232836800508\n",
      "numguess =  6\n"
     ]
    }
   ],
   "source": [
    "#Cube root\n",
    "#Find the cube root of x**3 = 25\n",
    "epsilon = 0.01\n",
    "numguess = 0\n",
    "k = 25.0\n",
    "guess = k/2\n",
    "while abs(guess**3-k) >= epsilon:\n",
    "    guess = ((k/guess**2)+(2*guess))/3\n",
    "    numguess = numguess+1\n",
    "print('Cube root of',k ,'is about',guess)\n",
    "print('numguess = ',numguess)"
   ]
  },
  {
   "cell_type": "code",
   "execution_count": null,
   "metadata": {
    "collapsed": false
   },
   "outputs": [],
   "source": []
  },
  {
   "cell_type": "code",
   "execution_count": null,
   "metadata": {
    "collapsed": true
   },
   "outputs": [],
   "source": []
  }
 ],
 "metadata": {
  "kernelspec": {
   "display_name": "Python 3",
   "language": "python",
   "name": "python3"
  },
  "language_info": {
   "codemirror_mode": {
    "name": "ipython",
    "version": 3
   },
   "file_extension": ".py",
   "mimetype": "text/x-python",
   "name": "python",
   "nbconvert_exporter": "python",
   "pygments_lexer": "ipython3",
   "version": "3.6.0"
  }
 },
 "nbformat": 4,
 "nbformat_minor": 2
}
